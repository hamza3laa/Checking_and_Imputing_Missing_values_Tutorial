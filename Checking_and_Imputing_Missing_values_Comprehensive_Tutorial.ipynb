{
  "nbformat": 4,
  "nbformat_minor": 0,
  "metadata": {
    "colab": {
      "name": " Checking and Imputing Missing values -  Comprehensive Tutorial.ipynb",
      "provenance": []
    },
    "kernelspec": {
      "name": "python3",
      "display_name": "Python 3"
    },
    "language_info": {
      "name": "python"
    }
  },
  "cells": [
    {
      "cell_type": "markdown",
      "metadata": {
        "id": "XBe5VPjlznyu"
      },
      "source": [
        "#Importance of handling missing data\n",
        "Missing data can skew anything for data scientists, from economic analysis to clinical trials. After all, any analysis is only as good as the data. A data scientist doesn’t want to produce biased estimates that lead to invalid results. The concept of missing data is implied in the name: it’s data that is not captured for a variable for the observation in question. Missing data reduces the statistical power of the analysis, which can distort the validity of the results"
      ]
    },
    {
      "cell_type": "markdown",
      "metadata": {
        "id": "AAeto9M9GFYB"
      },
      "source": [
        "# Reasons behind Missing Values\n",
        " - People do not respond to survey (or specific questions in a survey).\n",
        "\n",
        "- Data corruption is a major issue. Due to low maintenance, some parts of data are corrupted giving rise to missing data\n",
        "\n",
        "- Species are rare and cannot be found or sampled.\n",
        "\n",
        "- The individual dies or drops out before sampling.\n",
        "\n",
        "- Some things are easier to measure than others.\n",
        "\n",
        "- Data entry errors."
      ]
    },
    {
      "cell_type": "markdown",
      "metadata": {
        "id": "gGiOjpNwGFYC"
      },
      "source": [
        "# Types of Missing Values\n",
        "1. Missing Completely at Random (MCAR)\n",
        "\n",
        "The missing data do not follow any particular pattern, they are simply random. The missing of these data is unrelated or independent of the remaining variables. It is not possible to predict these values with the rest of the variable data. For example, during the collection of data, a particular sample gets lost due to carelessness. This is an ideal case, where statistically the analysis will not be biased. But you shouldn’t assume the presence of MCAR unless very sure as it is a rare situation.\n",
        "\n",
        "2. Missing At Random (MAR)\n",
        "\n",
        "Here unlike MCAR, the data is missing amongst particular subsets. It is possible to predict if the data will be present/absent with the help of other features. But, you cannot predict the missing data themselves.\n",
        "\n",
        "For example, let us consider a survey about time spent on the internet, which has a section about time spent on platforms like Netflix, amazon prime. It is observed that older people( above 45 years) are less likely to fill it than younger people. This is an example of MAR. Here, the ‘Age’ parameter decides if the data will be missing or not. MAR occurs very commonly than MCAR.\n",
        "3. Not Missing at Random (NMAR)\n",
        "\n",
        "This is a serious and tricky situation. Let’s say the purpose of the survey is to measure the overuse/addiction to social media. If people who excessively use social media, do not fill the survey intentionally, then we have a case of NMAR. This will most probably lead to a bias in results. The usual methods like dropping rows/columns, imputation will not work. To solve this, in-depth knowledge of the domain would be necessary.\n",
        "\n",
        "\n"
      ]
    },
    {
      "cell_type": "markdown",
      "metadata": {
        "id": "Fx4wtsC5TsgG"
      },
      "source": [
        "# Ways to Handle Missing Values\n",
        "- Deleting Rows with missing values\n",
        "- Dropping columns \n",
        "- Impute missing values for continuous variable &categorical variable\n",
        "- Other Imputation Methods\n",
        "- Using Algorithms that support missing values\n",
        "- Prediction of missing values\n",
        "- Imputation using Deep Learning Library — Datawig"
      ]
    },
    {
      "cell_type": "markdown",
      "metadata": {
        "id": "facokm8HVxA4"
      },
      "source": [
        "## We can divided them into tow main catgories:\n",
        "1- Deletion\n",
        "\n",
        "2- Imputation"
      ]
    },
    {
      "cell_type": "markdown",
      "metadata": {
        "id": "E4Ot3MskQCFt"
      },
      "source": [
        "We will look deeply into the pros and cons of each method ans when to use it"
      ]
    },
    {
      "cell_type": "markdown",
      "metadata": {
        "id": "OFvzsfNl0RjL"
      },
      "source": [
        "# Let's Check for missing values\n"
      ]
    },
    {
      "cell_type": "markdown",
      "metadata": {
        "id": "QCEREMm9znVZ"
      },
      "source": [
        "we gonna use Titanic dataset from [Kagel]( https://www.kaggle.com/c/titanic/data?select=train.csv)"
      ]
    },
    {
      "cell_type": "code",
      "metadata": {
        "id": "ImUWgGu6u7ok"
      },
      "source": [
        "import numpy as np\n",
        "import pandas as pd\n",
        "import seaborn as sns\n",
        "import matplotlib.pyplot as plt\n",
        "import missingno as msno\n",
        "\n"
      ],
      "execution_count": null,
      "outputs": []
    },
    {
      "cell_type": "code",
      "metadata": {
        "id": "uzU4PtJvKvtV"
      },
      "source": [
        "df = pd.read_csv('/content/drive/MyDrive/Machine learning/Datasets/titanic_train.csv')\n",
        "\n"
      ],
      "execution_count": null,
      "outputs": []
    },
    {
      "cell_type": "markdown",
      "metadata": {
        "id": "aPVlLQ2kQpho"
      },
      "source": [
        "We will check for missing values manualy with pandas and visualiy missnngo "
      ]
    },
    {
      "cell_type": "code",
      "metadata": {
        "colab": {
          "base_uri": "https://localhost:8080/"
        },
        "id": "SG_lCtVZISEr",
        "outputId": "c5b05ce7-c342-401c-91a0-f67fd5e0c738"
      },
      "source": [
        "df.isnull().sum()"
      ],
      "execution_count": null,
      "outputs": [
        {
          "output_type": "execute_result",
          "data": {
            "text/plain": [
              "PassengerId      0\n",
              "Survived         0\n",
              "Pclass           0\n",
              "Name             0\n",
              "Sex              0\n",
              "Age            177\n",
              "SibSp            0\n",
              "Parch            0\n",
              "Ticket           0\n",
              "Fare             0\n",
              "Cabin          687\n",
              "Embarked         2\n",
              "dtype: int64"
            ]
          },
          "metadata": {},
          "execution_count": 4
        }
      ]
    },
    {
      "cell_type": "code",
      "metadata": {
        "colab": {
          "base_uri": "https://localhost:8080/"
        },
        "id": "b6lKDvkyqyOF",
        "outputId": "917a5530-fb57-4fee-b8f7-43e823123c2c"
      },
      "source": [
        "df.Age.shape[0]\n",
        "df.Cabin.shape[0]\n",
        "df.Embarked.shape[0]"
      ],
      "execution_count": null,
      "outputs": [
        {
          "output_type": "execute_result",
          "data": {
            "text/plain": [
              "891"
            ]
          },
          "metadata": {},
          "execution_count": 5
        }
      ]
    },
    {
      "cell_type": "code",
      "metadata": {
        "colab": {
          "base_uri": "https://localhost:8080/"
        },
        "id": "GZSMSsfWnmm6",
        "outputId": "e6fd5222-4206-4856-c52a-b2e1fb03f8d3"
      },
      "source": [
        "print(df['Embarked'].isnull().sum()/df['Embarked'].shape[0]*100)\n",
        "print(df['Age'].isnull().sum()/df['Age'].shape[0]*100)\n",
        "print(df['Cabin'].isnull().sum()/df['Cabin'].shape[0]*100)\n"
      ],
      "execution_count": null,
      "outputs": [
        {
          "output_type": "stream",
          "name": "stdout",
          "text": [
            "0.22446689113355783\n",
            "19.865319865319865\n",
            "77.10437710437711\n"
          ]
        }
      ]
    },
    {
      "cell_type": "markdown",
      "metadata": {
        "id": "Lzf9UuAaH9wo"
      },
      "source": [
        "# Let's viualiaz missing values usinf missnango"
      ]
    },
    {
      "cell_type": "markdown",
      "metadata": {
        "id": "7QbXPjQSfj0Q"
      },
      "source": [
        "## 1- Barplot\n",
        "The barplot provides a simple plot where each bar represents a column within the dataframe. The height of the bar indicates how complete that column is, i.e, how many non-null values are present"
      ]
    },
    {
      "cell_type": "code",
      "metadata": {
        "colab": {
          "base_uri": "https://localhost:8080/",
          "height": 374
        },
        "id": "kOPSPv3UIF1e",
        "outputId": "1a913b9e-000e-4728-bb86-afdfd02188c1"
      },
      "source": [
        "msno.bar(df , figsize=(8,4), fontsize=16, log=False, color='black');"
      ],
      "execution_count": null,
      "outputs": [
        {
          "output_type": "display_data",
          "data": {
            "image/png": "[encoded data removed]",
            "text/plain": [
              "<Figure size 576x288 with 3 Axes>"
            ]
          },
          "metadata": {
            "needs_background": "light"
          }
        }
      ]
    },
    {
      "cell_type": "markdown",
      "metadata": {
        "id": "C8OqB5D-fciE"
      },
      "source": [
        "## 2- Using Matrix Plot\n",
        "The matrix plot is a great tool if you are working with depth-related data or time-series data. It provides a colour fill for each column. When data is present\n",
        "\n",
        "  Added benefit is You can view how that missing data is distributed in the dataframe."
      ]
    },
    {
      "cell_type": "code",
      "metadata": {
        "id": "b7u9-N8IkiyZ"
      },
      "source": [
        "msno.matrix(df, figsize=(8, 4),color=(.25, .25, 0.5));\n"
      ],
      "execution_count": null,
      "outputs": []
    },
    {
      "cell_type": "markdown",
      "metadata": {
        "id": "K6fkGzYihFBo"
      },
      "source": [
        "On the right side of the plot is a sparkline that ranges from 0 on the left to the total number of columns in the dataframe on the right. A closeup can be seen above. When a row has a value in each column, the line will be at the maximum right position. As missing values start to increase within that row the line will move towards the left."
      ]
    },
    {
      "cell_type": "markdown",
      "metadata": {
        "id": "t7M6FXruhJga"
      },
      "source": [
        "## 3- Heatmap\n",
        "Explolring corelation between features by heatmap\n",
        "The heatmap is used to identify correlations of the nullity between each of the different columns. In other words, it can be used to identify if there is a relationship in the presence of null values between each of the columns."
      ]
    },
    {
      "cell_type": "code",
      "metadata": {
        "colab": {
          "base_uri": "https://localhost:8080/",
          "height": 382
        },
        "id": "lGbLF84_Gj9U",
        "outputId": "fc11298a-b8f7-432d-ab9d-6ffb96644b30"
      },
      "source": [
        "msno.heatmap(df, figsize=(8, 5), fontsize=16, labels=True, cmap='RdBu');"
      ],
      "execution_count": null,
      "outputs": [
        {
          "output_type": "display_data",
          "data": {
            "image/png": "[encoded data removed]",
            "text/plain": [
              "<Figure size 576x360 with 2 Axes>"
            ]
          },
          "metadata": {
            "needs_background": "light"
          }
        }
      ]
    },
    {
      "cell_type": "markdown",
      "metadata": {
        "id": "hUVLvgY1hiL0"
      },
      "source": [
        "Values close to positive 1 indicate that the presence of null values in one column is correlated with the presence of null values in another column.\n",
        "Values close to negative 1 indicate that the presence of null values in one column is anti-correlated with the presence of null values in another column. In other words, when null values are present in one column, there are data values present in the other column, and vice versa."
      ]
    },
    {
      "cell_type": "markdown",
      "metadata": {
        "id": "BCXifZ6AVHve"
      },
      "source": [
        "#4- Dendrogram\n",
        "The dendrogram plot provides a tree-like graph generated through hierarchical clustering and groups together columns that have strong correlations in nullity.\n",
        "If a number of columns are grouped together at level zero, then the presence of nulls in one of those columns is directly related to the presence or absence of nulls in the others columns. The more separated the columns in the tree, the less likely the null values can be correlated between the columns."
      ]
    },
    {
      "cell_type": "code",
      "metadata": {
        "colab": {
          "base_uri": "https://localhost:8080/",
          "height": 389
        },
        "id": "3grwDH6WVHJ4",
        "outputId": "4b8e1348-91c9-4240-a2d5-1deee3bd74d7"
      },
      "source": [
        "msno.dendrogram(df , figsize=(8,5));\n"
      ],
      "execution_count": null,
      "outputs": [
        {
          "output_type": "display_data",
          "data": {
            "image/png": "[encoded data removed]",
            "text/plain": [
              "<Figure size 576x360 with 1 Axes>"
            ]
          },
          "metadata": {
            "needs_background": "light"
          }
        }
      ]
    },
    {
      "cell_type": "markdown",
      "metadata": {
        "id": "1exhQRAtqVQ4"
      },
      "source": [
        "# Ways to handle missing values\n",
        "\n",
        "## 1- Deleation\n",
        "\n",
        "###  Dropping rows with missing values\n",
        "Missing values can be handled by deleting the rows or columns having null values. If columns have more than half of the rows as null then the entire column can be dropped. The rows which are having one or more columns values as null can also be dropped.\n"
      ]
    },
    {
      "cell_type": "markdown",
      "metadata": {
        "id": "_ng3gPkSr5R5"
      },
      "source": [
        "AS ‘Embarked’ column has just 2 missing values. So, we can drop rows where this column is missing."
      ]
    },
    {
      "cell_type": "code",
      "metadata": {
        "id": "X1A0LRFli6Jx"
      },
      "source": [
        "df.dropna(subset=['Embarked'])"
      ],
      "execution_count": null,
      "outputs": []
    },
    {
      "cell_type": "markdown",
      "metadata": {
        "id": "fr_9TsLqRv8s"
      },
      "source": [
        "Note that we must pass parmetre inplace =True in order to delet it from the dataset bu we will keep it like this for now"
      ]
    },
    {
      "cell_type": "markdown",
      "metadata": {
        "id": "xPd6JL08uJOT"
      },
      "source": [
        "### Dropping columns\n",
        "When a column has large missing values, there is no point in imputing the values with the least available true data we have. So, when any column has greater than 80% of values missing, you can just drop that column from your analysis. In our case, ‘Cabin’ has 77% data missing, so you can take the choice of dropping this column.\n"
      ]
    },
    {
      "cell_type": "markdown",
      "metadata": {
        "id": "DhbxppAmvqV7"
      },
      "source": [
        "Pros & Cons:\n",
        "\n",
        "It is easy to handle but it leads to Loss of a lot of information and end up reducing the size of your dataset and make your model predictions biased. \n",
        "\n",
        "Works poorly if the percentage of missing values is excessive in comparison to the complete dataset."
      ]
    },
    {
      "cell_type": "markdown",
      "metadata": {
        "id": "Pty8VcsOw95P"
      },
      "source": [
        "# 2- Impiutation"
      ]
    },
    {
      "cell_type": "markdown",
      "metadata": {
        "id": "R9FdAxTgzqKh"
      },
      "source": [
        "# Imputation for continous variable\n",
        "\n"
      ]
    },
    {
      "cell_type": "markdown",
      "metadata": {
        "id": "rvQIEjglzqNM"
      },
      "source": [
        "## 1-Imputation with mean & Median or constant using sklearn & pandas \n",
        "\n",
        "When a continuous variable column has missing values, you can calculate the mean| Median of the non-null values and use it to fill the vacancies. \n"
      ]
    },
    {
      "cell_type": "markdown",
      "metadata": {
        "id": "s1Wtx2J5zqrq"
      },
      "source": [
        "In the titanic dataset we have been using until now, ‘Age’ is a numeric column."
      ]
    },
    {
      "cell_type": "markdown",
      "metadata": {
        "id": "srXxJZ39yh8H"
      },
      "source": [
        ""
      ]
    },
    {
      "cell_type": "code",
      "metadata": {
        "colab": {
          "base_uri": "https://localhost:8080/"
        },
        "id": "Cou7cs8r12gC",
        "outputId": "21ae0b2d-bd74-4432-acf0-ebb173c798f9"
      },
      "source": [
        "df['Age'].isnull().sum()"
      ],
      "execution_count": null,
      "outputs": [
        {
          "output_type": "execute_result",
          "data": {
            "text/plain": [
              "177"
            ]
          },
          "metadata": {},
          "execution_count": 14
        }
      ]
    },
    {
      "cell_type": "markdown",
      "metadata": {
        "id": "j9xcS0QU3-_1"
      },
      "source": [
        "Using simple imputertur Sklearn\n",
        "you can select strategy= ['mean', 'median', 'most_frequent', 'constant']   "
      ]
    },
    {
      "cell_type": "code",
      "metadata": {
        "colab": {
          "base_uri": "https://localhost:8080/"
        },
        "id": "XIx57yeg3qem",
        "outputId": "bc2291d6-08c7-4481-e90b-443623f2c449"
      },
      "source": [
        "#Using simpleImputer in Sklearn\n",
        "from sklearn.impute import SimpleImputer\n",
        "imputer = SimpleImputer(strategy='mean')\n",
        "imputer.fit(df[['Age']])\n"
      ],
      "execution_count": null,
      "outputs": [
        {
          "output_type": "execute_result",
          "data": {
            "text/plain": [
              "SimpleImputer(add_indicator=False, copy=True, fill_value=None,\n",
              "              missing_values=nan, strategy='mean', verbose=0)"
            ]
          },
          "metadata": {},
          "execution_count": 61
        }
      ]
    },
    {
      "cell_type": "markdown",
      "metadata": {
        "id": "zyPsvANNT2pg"
      },
      "source": [
        "Note that if we want to apply the changes to the columns we should use transform method or fit_transform"
      ]
    },
    {
      "cell_type": "code",
      "metadata": {
        "colab": {
          "base_uri": "https://localhost:8080/"
        },
        "id": "gr2-Uuvi2UI7",
        "outputId": "906661d2-820e-446b-b9e4-681ef8640e40"
      },
      "source": [
        "#using pandas\n",
        "df['Age'].replace(np.NaN , df['Age'].mean())"
      ],
      "execution_count": null,
      "outputs": [
        {
          "output_type": "execute_result",
          "data": {
            "text/plain": [
              "0      22.000000\n",
              "1      38.000000\n",
              "2      26.000000\n",
              "3      35.000000\n",
              "4      35.000000\n",
              "         ...    \n",
              "886    27.000000\n",
              "887    19.000000\n",
              "888    29.699118\n",
              "889    26.000000\n",
              "890    32.000000\n",
              "Name: Age, Length: 891, dtype: float64"
            ]
          },
          "metadata": {},
          "execution_count": 63
        }
      ]
    },
    {
      "cell_type": "markdown",
      "metadata": {
        "id": "yvhc5vos2QvE"
      },
      "source": [
        "Mean imputation has certain disadvantages. If the data has a very uneven distribution, with many outliers, then the Mean will not reflect the actual distribution of the data. Mean is affected greatly by extreme values or outliers. So, if the data doesn’t have many outliers and follows near-normal distribution, use mean imputation"
      ]
    },
    {
      "cell_type": "markdown",
      "metadata": {
        "id": "ks7mTrEI9rhZ"
      },
      "source": [
        " The advantage of the median is, it is unaffected by the outliers"
      ]
    },
    {
      "cell_type": "code",
      "metadata": {
        "id": "GyevdJG3_0Dy"
      },
      "source": [
        "from sklearn.impute import SimpleImputer\n",
        "imputer = SimpleImputer(strategy='median')\n",
        "imputer.fit(df[['Age']])"
      ],
      "execution_count": null,
      "outputs": []
    },
    {
      "cell_type": "code",
      "metadata": {
        "colab": {
          "base_uri": "https://localhost:8080/"
        },
        "id": "z2UooTdj12ka",
        "outputId": "7612eaa3-20e1-4d59-ee0d-b7c0a6f36253"
      },
      "source": [
        "df['Age'].replace(np.NaN , df['Age'].median())\n",
        "df['Age'].head(6)"
      ],
      "execution_count": null,
      "outputs": [
        {
          "output_type": "execute_result",
          "data": {
            "text/plain": [
              "0    22.000000\n",
              "1    38.000000\n",
              "2    26.000000\n",
              "3    35.000000\n",
              "4    35.000000\n",
              "5    29.642093\n",
              "Name: Age, dtype: float64"
            ]
          },
          "metadata": {},
          "execution_count": 18
        }
      ]
    },
    {
      "cell_type": "code",
      "metadata": {
        "id": "DqkmLQX7_zN5"
      },
      "source": [
        ""
      ],
      "execution_count": null,
      "outputs": []
    },
    {
      "cell_type": "markdown",
      "metadata": {
        "id": "LDUNMEAS9p5D"
      },
      "source": [
        "Similarly, you can perform mode imputation also. \n",
        "\n",
        "Generally, Imputation with the most frequent (mode) is popular for categorical missing values"
      ]
    },
    {
      "cell_type": "markdown",
      "metadata": {
        "id": "woPdrXLY9nOd"
      },
      "source": [
        "# 2- Apply ML Algorathims to impute missing value ( KNNImputer or IterativeImputer from Sklearn)"
      ]
    },
    {
      "cell_type": "markdown",
      "metadata": {
        "id": "ysJb73BC_aLC"
      },
      "source": [
        "##KNN Imputer:\n",
        "The idea in KNN methods is to identify ‘k’ samples in the dataset that are similar or close in the space. Then we use these ‘k’ samples to estimate the value of the missing data points. Each sample’s missing values are imputed using the mean value of the ‘k’-neighbors found in the dataset.\n",
        "The points with the shortest distance based on Euclidean distances are considered to be the nearest neighbors.\n",
        "In the presence of missing coordinates, the Euclidean distance is calculated by ignoring the missing values and scaling up the weight of the non-missing coordinates where the weight = no of codiants/no of present cordiants.\n",
        "For example, the Euclidean distances between two points (3, NA, 5) and (1, 0, 0) is: \n",
        "\n",
        "![png;base64103faef0f3ce7953.png](data:image/png;base64,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)\n",
        "\n",
        "\n",
        "\n",
        "\n",
        "\n",
        "\n",
        "\n",
        "\n",
        "\n",
        "\n"
      ]
    },
    {
      "cell_type": "code",
      "metadata": {
        "colab": {
          "base_uri": "https://localhost:8080/"
        },
        "id": "QZfYsh9ey1O9",
        "outputId": "e0e483fd-2ce5-4f71-d0f5-2e8c8946a2dc"
      },
      "source": [
        "[df['Age'].isnull().sum()]"
      ],
      "execution_count": null,
      "outputs": [
        {
          "output_type": "execute_result",
          "data": {
            "text/plain": [
              "[177]"
            ]
          },
          "metadata": {},
          "execution_count": 67
        }
      ]
    },
    {
      "cell_type": "code",
      "metadata": {
        "id": "ol0BWTlC1UCK",
        "colab": {
          "base_uri": "https://localhost:8080/"
        },
        "outputId": "209cff68-d436-4112-e89c-57f5d6f40e6f"
      },
      "source": [
        "X = df[['Age','Fare' , 'Pclass' ,'SibSp' ,'Survived' ]].values\n",
        "X"
      ],
      "execution_count": null,
      "outputs": [
        {
          "output_type": "execute_result",
          "data": {
            "text/plain": [
              "array([[22.    ,  7.25  ],\n",
              "       [38.    , 71.2833],\n",
              "       [26.    ,  7.925 ],\n",
              "       ...,\n",
              "       [    nan, 23.45  ],\n",
              "       [26.    , 30.    ],\n",
              "       [32.    ,  7.75  ]])"
            ]
          },
          "metadata": {},
          "execution_count": 66
        }
      ]
    },
    {
      "cell_type": "code",
      "metadata": {
        "colab": {
          "base_uri": "https://localhost:8080/"
        },
        "id": "RHUNwfuOmDZu",
        "outputId": "1882f4c5-838c-4ee4-8905-11e56cc237bf"
      },
      "source": [
        ""
      ],
      "execution_count": null,
      "outputs": [
        {
          "output_type": "execute_result",
          "data": {
            "text/plain": [
              "[177]"
            ]
          },
          "metadata": {},
          "execution_count": 65
        }
      ]
    },
    {
      "cell_type": "code",
      "metadata": {
        "id": "qFYeIZLr-jEg",
        "colab": {
          "base_uri": "https://localhost:8080/"
        },
        "outputId": "31512537-d6e7-433e-c919-88d994e306e3"
      },
      "source": [
        "from sklearn.impute import KNNImputer\n",
        "k_imputer = KNNImputer()\n",
        "k_imputer.fit_transform(X)\n",
        "\n"
      ],
      "execution_count": null,
      "outputs": [
        {
          "output_type": "execute_result",
          "data": {
            "text/plain": [
              "array([[22.    ,  7.25  ,  3.    ,  1.    ,  0.    ],\n",
              "       [38.    , 71.2833,  1.    ,  1.    ,  1.    ],\n",
              "       [26.    ,  7.925 ,  3.    ,  0.    ,  1.    ],\n",
              "       ...,\n",
              "       [31.8   , 23.45  ,  3.    ,  1.    ,  0.    ],\n",
              "       [26.    , 30.    ,  1.    ,  0.    ,  1.    ],\n",
              "       [32.    ,  7.75  ,  3.    ,  0.    ,  0.    ]])"
            ]
          },
          "metadata": {},
          "execution_count": 87
        }
      ]
    },
    {
      "cell_type": "markdown",
      "metadata": {
        "id": "ES3YTtOHp2sR"
      },
      "source": [
        "Each sample’s missing values are imputed using the mean value from n_neighbors nearest neighbors found\n",
        "\n",
        "\n",
        "\n"
      ]
    },
    {
      "cell_type": "code",
      "metadata": {
        "colab": {
          "base_uri": "https://localhost:8080/"
        },
        "id": "cWERapxKo3U-",
        "outputId": "a3e7e6b6-3843-41f4-9bdb-aaa8ee5d67d3"
      },
      "source": [
        "k_imputer.n_neighbors"
      ],
      "execution_count": null,
      "outputs": [
        {
          "output_type": "execute_result",
          "data": {
            "text/plain": [
              "5"
            ]
          },
          "metadata": {},
          "execution_count": 22
        }
      ]
    },
    {
      "cell_type": "markdown",
      "metadata": {
        "id": "6lwXRi_X0ajO"
      },
      "source": [
        "Research suggests that it is imperative to test the model using cross-validation after performing imputation with different values of k. Although the imputation of missing values is a continuously evolving field of study, kNN act as a simple and effective strategy."
      ]
    },
    {
      "cell_type": "markdown",
      "metadata": {
        "id": "iGu9IrFvzquR"
      },
      "source": [
        "#Iterative Imputer:\n",
        "Bulding regreesion Model between non-missing values features as predictors wihh misiinng value feature as response \n",
        "it regresses a feature with missing values on the dataset’s other features and then replaces the missing values with the predicted value from the regression model.\n",
        "Like KNN Imputer, Iterative Imputer should replace missing values with the feature mean when there is no relationship between features, as the random regression coefficients offset. Alternatively, when correlations between features do exist, Iterative Imputer will base the imputed value on the correlations with all other features.\n",
        "\n",
        "- While it has all of the same benefits as KNN Imputer, producing more accurate estimates of missing values with less manual labor, Iterative Imputer uses a different strategy for getting there."
      ]
    },
    {
      "cell_type": "code",
      "metadata": {
        "colab": {
          "base_uri": "https://localhost:8080/"
        },
        "id": "f_sglomjt09E",
        "outputId": "fbd7f028-6e19-4ef1-a4e9-ba66708d1de5"
      },
      "source": [
        "df.isnull().sum()"
      ],
      "execution_count": null,
      "outputs": [
        {
          "output_type": "execute_result",
          "data": {
            "text/plain": [
              "PassengerId      0\n",
              "Survived         0\n",
              "Pclass           0\n",
              "Name             0\n",
              "Sex              0\n",
              "Age            177\n",
              "SibSp            0\n",
              "Parch            0\n",
              "Ticket           0\n",
              "Fare             0\n",
              "Cabin          687\n",
              "Embarked         2\n",
              "dtype: int64"
            ]
          },
          "metadata": {},
          "execution_count": 72
        }
      ]
    },
    {
      "cell_type": "code",
      "metadata": {
        "colab": {
          "base_uri": "https://localhost:8080/",
          "height": 111
        },
        "id": "qxIYIO5j1EWQ",
        "outputId": "6276eaab-4781-4f4e-8bd5-580c9ce1a4ee"
      },
      "source": [
        "df.head(2)"
      ],
      "execution_count": null,
      "outputs": [
        {
          "output_type": "execute_result",
          "data": {
            "text/html": [
              "<div>\n",
              "<style scoped>\n",
              "    .dataframe tbody tr th:only-of-type {\n",
              "        vertical-align: middle;\n",
              "    }\n",
              "\n",
              "    .dataframe tbody tr th {\n",
              "        vertical-align: top;\n",
              "    }\n",
              "\n",
              "    .dataframe thead th {\n",
              "        text-align: right;\n",
              "    }\n",
              "</style>\n",
              "<table border=\"1\" class=\"dataframe\">\n",
              "  <thead>\n",
              "    <tr style=\"text-align: right;\">\n",
              "      <th></th>\n",
              "      <th>PassengerId</th>\n",
              "      <th>Survived</th>\n",
              "      <th>Pclass</th>\n",
              "      <th>Name</th>\n",
              "      <th>Sex</th>\n",
              "      <th>Age</th>\n",
              "      <th>SibSp</th>\n",
              "      <th>Parch</th>\n",
              "      <th>Ticket</th>\n",
              "      <th>Fare</th>\n",
              "      <th>Cabin</th>\n",
              "      <th>Embarked</th>\n",
              "    </tr>\n",
              "  </thead>\n",
              "  <tbody>\n",
              "    <tr>\n",
              "      <th>0</th>\n",
              "      <td>1</td>\n",
              "      <td>0</td>\n",
              "      <td>3</td>\n",
              "      <td>Braund, Mr. Owen Harris</td>\n",
              "      <td>male</td>\n",
              "      <td>22.0</td>\n",
              "      <td>1</td>\n",
              "      <td>0</td>\n",
              "      <td>A/5 21171</td>\n",
              "      <td>7.2500</td>\n",
              "      <td>NaN</td>\n",
              "      <td>S</td>\n",
              "    </tr>\n",
              "    <tr>\n",
              "      <th>1</th>\n",
              "      <td>2</td>\n",
              "      <td>1</td>\n",
              "      <td>1</td>\n",
              "      <td>Cumings, Mrs. John Bradley (Florence Briggs Th...</td>\n",
              "      <td>female</td>\n",
              "      <td>38.0</td>\n",
              "      <td>1</td>\n",
              "      <td>0</td>\n",
              "      <td>PC 17599</td>\n",
              "      <td>71.2833</td>\n",
              "      <td>C85</td>\n",
              "      <td>C</td>\n",
              "    </tr>\n",
              "  </tbody>\n",
              "</table>\n",
              "</div>"
            ],
            "text/plain": [
              "   PassengerId  Survived  Pclass  ...     Fare Cabin  Embarked\n",
              "0            1         0       3  ...   7.2500   NaN         S\n",
              "1            2         1       1  ...  71.2833   C85         C\n",
              "\n",
              "[2 rows x 12 columns]"
            ]
          },
          "metadata": {},
          "execution_count": 74
        }
      ]
    },
    {
      "cell_type": "code",
      "metadata": {
        "id": "zN1GPc3_3uyE",
        "colab": {
          "base_uri": "https://localhost:8080/"
        },
        "outputId": "d6446a45-540b-47d8-ae50-ea4e85fd3b63"
      },
      "source": [
        "X = df[['Age','Fare' , 'Pclass' ,'SibSp' ,'Survived' ]].values\n",
        "X"
      ],
      "execution_count": null,
      "outputs": [
        {
          "output_type": "execute_result",
          "data": {
            "text/plain": [
              "array([[22.    ,  7.25  ,  3.    ,  1.    ,  0.    ],\n",
              "       [38.    , 71.2833,  1.    ,  1.    ,  1.    ],\n",
              "       [26.    ,  7.925 ,  3.    ,  0.    ,  1.    ],\n",
              "       ...,\n",
              "       [    nan, 23.45  ,  3.    ,  1.    ,  0.    ],\n",
              "       [26.    , 30.    ,  1.    ,  0.    ,  1.    ],\n",
              "       [32.    ,  7.75  ,  3.    ,  0.    ,  0.    ]])"
            ]
          },
          "metadata": {},
          "execution_count": 82
        }
      ]
    },
    {
      "cell_type": "code",
      "metadata": {
        "id": "lAab5Z3VLdEM",
        "colab": {
          "base_uri": "https://localhost:8080/"
        },
        "outputId": "ffc25b94-6a36-48fd-c6a8-8ffae9509741"
      },
      "source": [
        "# new in 21, and still \"experimental\" so it must be enabled explicitly\n",
        "from sklearn.experimental import enable_iterative_imputer\n",
        "from sklearn.impute import IterativeImputer\n",
        "it_imputer =  IterativeImputer(random_state=42 ,)   \n",
        "it_imputer.fit_transform(X)"
      ],
      "execution_count": null,
      "outputs": [
        {
          "output_type": "execute_result",
          "data": {
            "text/plain": [
              "array([[22.        ,  7.25      ,  3.        ,  1.        ,  0.        ],\n",
              "       [38.        , 71.2833    ,  1.        ,  1.        ,  1.        ],\n",
              "       [26.        ,  7.925     ,  3.        ,  0.        ,  1.        ],\n",
              "       ...,\n",
              "       [24.42314142, 23.45      ,  3.        ,  1.        ,  0.        ],\n",
              "       [26.        , 30.        ,  1.        ,  0.        ,  1.        ],\n",
              "       [32.        ,  7.75      ,  3.        ,  0.        ,  0.        ]])"
            ]
          },
          "metadata": {},
          "execution_count": 86
        }
      ]
    },
    {
      "cell_type": "code",
      "metadata": {
        "id": "ZTPqlXk-4ItU"
      },
      "source": [
        "from sklearn.metrics import mean_squared_error\n"
      ],
      "execution_count": null,
      "outputs": []
    },
    {
      "cell_type": "markdown",
      "metadata": {
        "id": "T6_CVvWlsLyL"
      },
      "source": [
        "Simple imputation strategies such as using the mean or median can be effective when working with univariate data. When working with multivariate data, more advanced imputation methods such as iterative imputation can lead to even better results. Scikit-learn’s IterativeImputer provides a quick and easy way to implement such a strategy."
      ]
    },
    {
      "cell_type": "markdown",
      "metadata": {
        "id": "ZFxDyyPDzqwi"
      },
      "source": [
        "# Impute missing values for a categorical feature!!\n",
        "When the percentage of missing values is less, Mode (most frequent) is preferred. It does not cause a huge loss of data, and it is statistically relevant.\n",
        "But if you have a lot of missing values, then it doesn’t make sense to impute with the most frequent class. Instead, let us create a separate category for missing values like “Unknown” or “Unavailable”. The number of classes will be increased by one.\n",
        "\n",
        "Develop a model to predict missing values: One smart way of doing this could be training a classifier over your columns with missing values as a dependent variable against other features of your data set and trying to impute based on the newly trained classifier.\n",
        "\n",
        "1. Impute the most frequent value\n",
        "2. Impute the value \"missing\" or \"Unknown\" , which treats it as a separate category\n",
        "3. Apply ML Models like Calssfication or unsprviesed clustring models \n",
        "\n",
        "\n"
      ]
    },
    {
      "cell_type": "markdown",
      "metadata": {
        "id": "zjEBMLyzunJD"
      },
      "source": [
        "## 1-Impute the most frequent value"
      ]
    },
    {
      "cell_type": "code",
      "metadata": {
        "colab": {
          "base_uri": "https://localhost:8080/"
        },
        "id": "9mZysDv_5Rsk",
        "outputId": "b4aff33c-1ff6-4df2-d1f8-9d1cba344d7d"
      },
      "source": [
        "print(df['Embarked'].isnull().sum())\n",
        "\n",
        "df['Embarked'].value_counts()"
      ],
      "execution_count": null,
      "outputs": [
        {
          "output_type": "stream",
          "name": "stdout",
          "text": [
            "2\n"
          ]
        },
        {
          "output_type": "execute_result",
          "data": {
            "text/plain": [
              "S    644\n",
              "C    168\n",
              "Q     77\n",
              "Name: Embarked, dtype: int64"
            ]
          },
          "metadata": {},
          "execution_count": 91
        }
      ]
    },
    {
      "cell_type": "code",
      "metadata": {
        "id": "pfGN3YpOY1__"
      },
      "source": [
        "from sklearn.impute import SimpleImputer\n",
        "simputer = SimpleImputer(strategy='most_frequent')\n",
        "simputer.fit_transform(df[['Embarked']])\n"
      ],
      "execution_count": null,
      "outputs": []
    },
    {
      "cell_type": "markdown",
      "metadata": {
        "id": "S4kBw6896yA3"
      },
      "source": [
        "You can always impute them based on Mode in the case of categorical variables, just make sure you don’t have highly skewed class distributions.\n",
        "\n",
        "NOTE: But in some cases, this strategy can make the data imbalanced wrt classes if there are a huge number of missing values present in our dataset."
      ]
    },
    {
      "cell_type": "markdown",
      "metadata": {
        "id": "2VU2F6K3urGC"
      },
      "source": [
        "## 2- Impute the value \"missing\" or \"Unknown\" , which treats it as a separate category"
      ]
    },
    {
      "cell_type": "code",
      "metadata": {
        "id": "rB1v3j4suwvx"
      },
      "source": [
        "from sklearn.impute import SimpleImputer\n",
        "simputer = SimpleImputer(strategy='constant', fill_value='Missing')\n",
        "simputer.fit_transform(df[['Embarked']])"
      ],
      "execution_count": null,
      "outputs": []
    },
    {
      "cell_type": "markdown",
      "metadata": {
        "id": "nLsHDzaa69iY"
      },
      "source": [
        ""
      ]
    },
    {
      "cell_type": "markdown",
      "metadata": {
        "id": "cco4rpWyujdZ"
      },
      "source": [
        "##3- Apply ML spurvised and unsprviesed  Models to impute values\n",
        "\n",
        "1.   Logistic Regression\n",
        "2.   KMeans \n",
        "\n"
      ]
    },
    {
      "cell_type": "markdown",
      "metadata": {
        "id": "_50SNNhN7L1N"
      },
      "source": [
        "Develop a model to predict missing values: One smart way of doing this could be training a classifier over your columns with missing values as a dependent variable against other features of your data set and trying to impute based on the newly trained classifier.\n",
        "\n",
        "\n"
      ]
    },
    {
      "cell_type": "markdown",
      "metadata": {
        "id": "pXF8jiSsC9kO"
      },
      "source": [
        "As cabin has 77% null values we can't ipute using constant or avreage varaible so we will do it using models"
      ]
    },
    {
      "cell_type": "code",
      "metadata": {
        "id": "qEcrktCbt_2X",
        "colab": {
          "base_uri": "https://localhost:8080/"
        },
        "outputId": "4d8fc731-66e7-44d8-984f-4e8764d257bf"
      },
      "source": [
        "df=df.copy()\n",
        "df['Cabin'].isnull().sum()/df.shape[0]"
      ],
      "execution_count": null,
      "outputs": [
        {
          "output_type": "execute_result",
          "data": {
            "text/plain": [
              "0.7727784026996626"
            ]
          },
          "metadata": {},
          "execution_count": 32
        }
      ]
    },
    {
      "cell_type": "code",
      "metadata": {
        "colab": {
          "base_uri": "https://localhost:8080/"
        },
        "id": "y_on9NGNYkNV",
        "outputId": "2ee7bd9f-6e5f-43cd-cb6c-07290ebfd530"
      },
      "source": [
        "df.columns"
      ],
      "execution_count": null,
      "outputs": [
        {
          "output_type": "execute_result",
          "data": {
            "text/plain": [
              "Index(['PassengerId', 'Survived', 'Pclass', 'Name', 'Sex', 'Age', 'SibSp',\n",
              "       'Parch', 'Ticket', 'Fare', 'Cabin', 'Embarked'],\n",
              "      dtype='object')"
            ]
          },
          "metadata": {},
          "execution_count": 33
        }
      ]
    },
    {
      "cell_type": "code",
      "metadata": {
        "id": "AZrXiGpgt_4t",
        "colab": {
          "base_uri": "https://localhost:8080/",
          "height": 80
        },
        "outputId": "713afcfd-4924-4001-dbb5-edac14ea2109"
      },
      "source": [
        "#encoding male and famele vaeiables\n",
        "df['Sex'] = [1 if x==\"male\" else 0 for x in df[\"Sex\"]]\n",
        "df.head(1)"
      ],
      "execution_count": null,
      "outputs": [
        {
          "output_type": "execute_result",
          "data": {
            "text/html": [
              "<div>\n",
              "<style scoped>\n",
              "    .dataframe tbody tr th:only-of-type {\n",
              "        vertical-align: middle;\n",
              "    }\n",
              "\n",
              "    .dataframe tbody tr th {\n",
              "        vertical-align: top;\n",
              "    }\n",
              "\n",
              "    .dataframe thead th {\n",
              "        text-align: right;\n",
              "    }\n",
              "</style>\n",
              "<table border=\"1\" class=\"dataframe\">\n",
              "  <thead>\n",
              "    <tr style=\"text-align: right;\">\n",
              "      <th></th>\n",
              "      <th>PassengerId</th>\n",
              "      <th>Survived</th>\n",
              "      <th>Pclass</th>\n",
              "      <th>Name</th>\n",
              "      <th>Sex</th>\n",
              "      <th>Age</th>\n",
              "      <th>SibSp</th>\n",
              "      <th>Parch</th>\n",
              "      <th>Ticket</th>\n",
              "      <th>Fare</th>\n",
              "      <th>Cabin</th>\n",
              "      <th>Embarked</th>\n",
              "    </tr>\n",
              "  </thead>\n",
              "  <tbody>\n",
              "    <tr>\n",
              "      <th>0</th>\n",
              "      <td>1</td>\n",
              "      <td>0</td>\n",
              "      <td>3.0</td>\n",
              "      <td>Braund, Mr. Owen Harris</td>\n",
              "      <td>1</td>\n",
              "      <td>22.0</td>\n",
              "      <td>1.0</td>\n",
              "      <td>0</td>\n",
              "      <td>A/5 21171</td>\n",
              "      <td>7.25</td>\n",
              "      <td>NaN</td>\n",
              "      <td>S</td>\n",
              "    </tr>\n",
              "  </tbody>\n",
              "</table>\n",
              "</div>"
            ],
            "text/plain": [
              "   PassengerId  Survived  Pclass  ...  Fare  Cabin  Embarked\n",
              "0            1         0     3.0  ...  7.25    NaN         S\n",
              "\n",
              "[1 rows x 12 columns]"
            ]
          },
          "metadata": {},
          "execution_count": 34
        }
      ]
    },
    {
      "cell_type": "code",
      "metadata": {
        "colab": {
          "base_uri": "https://localhost:8080/",
          "height": 369
        },
        "id": "EggxVT_5G7Ex",
        "outputId": "e77e8b5f-2d7d-47bb-fc07-75864bd48ee0"
      },
      "source": [
        "sns.displot(df['Age'] , kind='kde' ,rug=True);"
      ],
      "execution_count": null,
      "outputs": [
        {
          "output_type": "display_data",
          "data": {
            "image/png": "[encoded data removed]",
            "text/plain": [
              "<Figure size 360x360 with 1 Axes>"
            ]
          },
          "metadata": {
            "needs_background": "light"
          }
        }
      ]
    },
    {
      "cell_type": "markdown",
      "metadata": {
        "id": "rl84X68yHQ7i"
      },
      "source": [
        "Since Age feature follow normal disrtuption we could go for Standrization scalers"
      ]
    },
    {
      "cell_type": "code",
      "metadata": {
        "colab": {
          "base_uri": "https://localhost:8080/"
        },
        "id": "RmCmfZ6sHdUG",
        "outputId": "99d20e1c-7af0-4977-9b1d-e2487212c612"
      },
      "source": [
        "from sklearn.preprocessing import StandardScaler\n",
        "scaler = StandardScaler()\n",
        "scaled_Age = scaler.fit_transform(df[['Age']].values)\n",
        "\n",
        "df.isnull().sum()"
      ],
      "execution_count": null,
      "outputs": [
        {
          "output_type": "execute_result",
          "data": {
            "text/plain": [
              "PassengerId      0\n",
              "Survived         0\n",
              "Pclass           2\n",
              "Name             0\n",
              "Sex              0\n",
              "Age              2\n",
              "SibSp            2\n",
              "Parch            0\n",
              "Ticket           0\n",
              "Fare             2\n",
              "Cabin          687\n",
              "Embarked         0\n",
              "scaled_Age       2\n",
              "scaled_fare      2\n",
              "dtype: int64"
            ]
          },
          "metadata": {},
          "execution_count": 47
        }
      ]
    },
    {
      "cell_type": "code",
      "metadata": {
        "colab": {
          "base_uri": "https://localhost:8080/",
          "height": 386
        },
        "id": "7HKp2VmwDuCv",
        "outputId": "5d93ed9a-5f73-4dc8-8039-5dfa19f1dd63"
      },
      "source": [
        "sns.displot(df['Fare'] , kind='kde',rug=True)"
      ],
      "execution_count": null,
      "outputs": [
        {
          "output_type": "execute_result",
          "data": {
            "text/plain": [
              "<seaborn.axisgrid.FacetGrid at 0x7f39d35891d0>"
            ]
          },
          "metadata": {},
          "execution_count": 37
        },
        {
          "output_type": "display_data",
          "data": {
            "image/png": "[encoded data removed]",
            "text/plain": [
              "<Figure size 360x360 with 1 Axes>"
            ]
          },
          "metadata": {
            "needs_background": "light"
          }
        }
      ]
    },
    {
      "cell_type": "code",
      "metadata": {
        "colab": {
          "base_uri": "https://localhost:8080/"
        },
        "id": "HtLo1Pg4J5PY",
        "outputId": "42aa45e2-4ea6-41ac-efca-463bf5411de8"
      },
      "source": [
        "df['Fare'].skew()"
      ],
      "execution_count": null,
      "outputs": [
        {
          "output_type": "execute_result",
          "data": {
            "text/plain": [
              "4.806870348005274"
            ]
          },
          "metadata": {},
          "execution_count": 38
        }
      ]
    },
    {
      "cell_type": "markdown",
      "metadata": {
        "id": "MvlOCybTJNEU"
      },
      "source": [
        "Since fare are +ve skewd to the right we have to perform noramlization scaling"
      ]
    },
    {
      "cell_type": "code",
      "metadata": {
        "id": "YTeIgTnxKvjA"
      },
      "source": [
        "from sklearn.preprocessing import MinMaxScaler\n",
        "scaler_1 = MinMaxScaler()\n",
        "scaled_fare = scaler_1.fit_transform(df[['Fare']])\n",
        "\n"
      ],
      "execution_count": null,
      "outputs": []
    },
    {
      "cell_type": "code",
      "metadata": {
        "id": "mw3z37ScJMGn",
        "colab": {
          "base_uri": "https://localhost:8080/",
          "height": 238
        },
        "outputId": "d7d5596b-fec0-498a-9bfb-1e9bafbb0849"
      },
      "source": [
        "df['scaled_fare'] = scaled_fare\n",
        "df.head()\n"
      ],
      "execution_count": null,
      "outputs": [
        {
          "output_type": "execute_result",
          "data": {
            "text/html": [
              "<div>\n",
              "<style scoped>\n",
              "    .dataframe tbody tr th:only-of-type {\n",
              "        vertical-align: middle;\n",
              "    }\n",
              "\n",
              "    .dataframe tbody tr th {\n",
              "        vertical-align: top;\n",
              "    }\n",
              "\n",
              "    .dataframe thead th {\n",
              "        text-align: right;\n",
              "    }\n",
              "</style>\n",
              "<table border=\"1\" class=\"dataframe\">\n",
              "  <thead>\n",
              "    <tr style=\"text-align: right;\">\n",
              "      <th></th>\n",
              "      <th>PassengerId</th>\n",
              "      <th>Survived</th>\n",
              "      <th>Pclass</th>\n",
              "      <th>Name</th>\n",
              "      <th>Sex</th>\n",
              "      <th>Age</th>\n",
              "      <th>SibSp</th>\n",
              "      <th>Parch</th>\n",
              "      <th>Ticket</th>\n",
              "      <th>Fare</th>\n",
              "      <th>Cabin</th>\n",
              "      <th>Embarked</th>\n",
              "      <th>scaled_Age</th>\n",
              "      <th>scaled_fare</th>\n",
              "    </tr>\n",
              "  </thead>\n",
              "  <tbody>\n",
              "    <tr>\n",
              "      <th>0</th>\n",
              "      <td>1</td>\n",
              "      <td>0</td>\n",
              "      <td>3.0</td>\n",
              "      <td>Braund, Mr. Owen Harris</td>\n",
              "      <td>1</td>\n",
              "      <td>22.0</td>\n",
              "      <td>1.0</td>\n",
              "      <td>0</td>\n",
              "      <td>A/5 21171</td>\n",
              "      <td>7.2500</td>\n",
              "      <td>NaN</td>\n",
              "      <td>S</td>\n",
              "      <td>-0.596478</td>\n",
              "      <td>0.014151</td>\n",
              "    </tr>\n",
              "    <tr>\n",
              "      <th>1</th>\n",
              "      <td>2</td>\n",
              "      <td>1</td>\n",
              "      <td>1.0</td>\n",
              "      <td>Cumings, Mrs. John Bradley (Florence Briggs Th...</td>\n",
              "      <td>0</td>\n",
              "      <td>38.0</td>\n",
              "      <td>1.0</td>\n",
              "      <td>0</td>\n",
              "      <td>PC 17599</td>\n",
              "      <td>71.2833</td>\n",
              "      <td>C85</td>\n",
              "      <td>C</td>\n",
              "      <td>0.643973</td>\n",
              "      <td>0.139136</td>\n",
              "    </tr>\n",
              "    <tr>\n",
              "      <th>2</th>\n",
              "      <td>3</td>\n",
              "      <td>1</td>\n",
              "      <td>3.0</td>\n",
              "      <td>Heikkinen, Miss. Laina</td>\n",
              "      <td>0</td>\n",
              "      <td>26.0</td>\n",
              "      <td>0.0</td>\n",
              "      <td>0</td>\n",
              "      <td>STON/O2. 3101282</td>\n",
              "      <td>7.9250</td>\n",
              "      <td>NaN</td>\n",
              "      <td>S</td>\n",
              "      <td>-0.286365</td>\n",
              "      <td>0.015469</td>\n",
              "    </tr>\n",
              "    <tr>\n",
              "      <th>3</th>\n",
              "      <td>4</td>\n",
              "      <td>1</td>\n",
              "      <td>1.0</td>\n",
              "      <td>Futrelle, Mrs. Jacques Heath (Lily May Peel)</td>\n",
              "      <td>0</td>\n",
              "      <td>35.0</td>\n",
              "      <td>1.0</td>\n",
              "      <td>0</td>\n",
              "      <td>113803</td>\n",
              "      <td>53.1000</td>\n",
              "      <td>C123</td>\n",
              "      <td>S</td>\n",
              "      <td>0.411389</td>\n",
              "      <td>0.103644</td>\n",
              "    </tr>\n",
              "    <tr>\n",
              "      <th>4</th>\n",
              "      <td>5</td>\n",
              "      <td>0</td>\n",
              "      <td>3.0</td>\n",
              "      <td>Allen, Mr. William Henry</td>\n",
              "      <td>1</td>\n",
              "      <td>35.0</td>\n",
              "      <td>0.0</td>\n",
              "      <td>0</td>\n",
              "      <td>373450</td>\n",
              "      <td>8.0500</td>\n",
              "      <td>NaN</td>\n",
              "      <td>S</td>\n",
              "      <td>0.411389</td>\n",
              "      <td>0.015713</td>\n",
              "    </tr>\n",
              "  </tbody>\n",
              "</table>\n",
              "</div>"
            ],
            "text/plain": [
              "   PassengerId  Survived  Pclass  ... Embarked  scaled_Age  scaled_fare\n",
              "0            1         0     3.0  ...        S   -0.596478     0.014151\n",
              "1            2         1     1.0  ...        C    0.643973     0.139136\n",
              "2            3         1     3.0  ...        S   -0.286365     0.015469\n",
              "3            4         1     1.0  ...        S    0.411389     0.103644\n",
              "4            5         0     3.0  ...        S    0.411389     0.015713\n",
              "\n",
              "[5 rows x 14 columns]"
            ]
          },
          "metadata": {},
          "execution_count": 40
        }
      ]
    },
    {
      "cell_type": "code",
      "metadata": {
        "id": "c_Txe8nYuAEI",
        "colab": {
          "base_uri": "https://localhost:8080/"
        },
        "outputId": "79ad9458-94e5-4072-d2e1-03280847d644"
      },
      "source": [
        "df_new = df.copy()\n",
        "df_.isnull().sum()\n"
      ],
      "execution_count": null,
      "outputs": [
        {
          "output_type": "execute_result",
          "data": {
            "text/plain": [
              "PassengerId      0\n",
              "Survived         0\n",
              "Pclass           2\n",
              "Name             0\n",
              "Sex              0\n",
              "Age              2\n",
              "SibSp            2\n",
              "Parch            0\n",
              "Ticket           0\n",
              "Fare             2\n",
              "Cabin          687\n",
              "Embarked         0\n",
              "scaled_Age       2\n",
              "scaled_fare      2\n",
              "dtype: int64"
            ]
          },
          "metadata": {},
          "execution_count": 43
        }
      ]
    },
    {
      "cell_type": "code",
      "metadata": {
        "id": "p_apeHaad3vS"
      },
      "source": [
        "###\n",
        "from sklearn.model_selection import train_test_split\n",
        "train , test = train_test_split(df, test_size = 0.3)\n",
        "\n",
        "x_train = train.drop('Item_Outlet_Sales', axis=1)\n",
        "y_train = train['Item_Outlet_Sales']\n",
        "\n",
        "x_test = test.drop('Item_Outlet_Sales', axis = 1)\n",
        "y_test = test['Item_Outlet_Sales']\n",
        "###"
      ],
      "execution_count": null,
      "outputs": []
    },
    {
      "cell_type": "code",
      "metadata": {
        "id": "obyt4IykNhCc",
        "colab": {
          "base_uri": "https://localhost:8080/",
          "height": 504
        },
        "outputId": "b66c8c7a-0e49-4cc4-c83e-abb7515130ff"
      },
      "source": [
        "#spilliting data into train and test data\n",
        "test_data = df[df['Cabin'].isnull()]\n",
        "test_data"
      ],
      "execution_count": null,
      "outputs": [
        {
          "output_type": "execute_result",
          "data": {
            "text/html": [
              "<div>\n",
              "<style scoped>\n",
              "    .dataframe tbody tr th:only-of-type {\n",
              "        vertical-align: middle;\n",
              "    }\n",
              "\n",
              "    .dataframe tbody tr th {\n",
              "        vertical-align: top;\n",
              "    }\n",
              "\n",
              "    .dataframe thead th {\n",
              "        text-align: right;\n",
              "    }\n",
              "</style>\n",
              "<table border=\"1\" class=\"dataframe\">\n",
              "  <thead>\n",
              "    <tr style=\"text-align: right;\">\n",
              "      <th></th>\n",
              "      <th>PassengerId</th>\n",
              "      <th>Survived</th>\n",
              "      <th>Pclass</th>\n",
              "      <th>Name</th>\n",
              "      <th>Sex</th>\n",
              "      <th>Age</th>\n",
              "      <th>SibSp</th>\n",
              "      <th>Parch</th>\n",
              "      <th>Ticket</th>\n",
              "      <th>Fare</th>\n",
              "      <th>Cabin</th>\n",
              "      <th>Embarked</th>\n",
              "      <th>scaled_Age</th>\n",
              "      <th>scaled_fare</th>\n",
              "    </tr>\n",
              "  </thead>\n",
              "  <tbody>\n",
              "    <tr>\n",
              "      <th>0</th>\n",
              "      <td>1</td>\n",
              "      <td>0</td>\n",
              "      <td>3.000000</td>\n",
              "      <td>Braund, Mr. Owen Harris</td>\n",
              "      <td>1</td>\n",
              "      <td>22.000000</td>\n",
              "      <td>1.000000</td>\n",
              "      <td>0</td>\n",
              "      <td>A/5 21171</td>\n",
              "      <td>7.250000</td>\n",
              "      <td>NaN</td>\n",
              "      <td>S</td>\n",
              "      <td>-0.596478</td>\n",
              "      <td>0.014151</td>\n",
              "    </tr>\n",
              "    <tr>\n",
              "      <th>2</th>\n",
              "      <td>3</td>\n",
              "      <td>1</td>\n",
              "      <td>3.000000</td>\n",
              "      <td>Heikkinen, Miss. Laina</td>\n",
              "      <td>0</td>\n",
              "      <td>26.000000</td>\n",
              "      <td>0.000000</td>\n",
              "      <td>0</td>\n",
              "      <td>STON/O2. 3101282</td>\n",
              "      <td>7.925000</td>\n",
              "      <td>NaN</td>\n",
              "      <td>S</td>\n",
              "      <td>-0.286365</td>\n",
              "      <td>0.015469</td>\n",
              "    </tr>\n",
              "    <tr>\n",
              "      <th>4</th>\n",
              "      <td>5</td>\n",
              "      <td>0</td>\n",
              "      <td>3.000000</td>\n",
              "      <td>Allen, Mr. William Henry</td>\n",
              "      <td>1</td>\n",
              "      <td>35.000000</td>\n",
              "      <td>0.000000</td>\n",
              "      <td>0</td>\n",
              "      <td>373450</td>\n",
              "      <td>8.050000</td>\n",
              "      <td>NaN</td>\n",
              "      <td>S</td>\n",
              "      <td>0.411389</td>\n",
              "      <td>0.015713</td>\n",
              "    </tr>\n",
              "    <tr>\n",
              "      <th>5</th>\n",
              "      <td>6</td>\n",
              "      <td>0</td>\n",
              "      <td>3.000000</td>\n",
              "      <td>Moran, Mr. James</td>\n",
              "      <td>1</td>\n",
              "      <td>29.642093</td>\n",
              "      <td>0.000000</td>\n",
              "      <td>0</td>\n",
              "      <td>330877</td>\n",
              "      <td>8.458300</td>\n",
              "      <td>NaN</td>\n",
              "      <td>Q</td>\n",
              "      <td>-0.004000</td>\n",
              "      <td>0.016510</td>\n",
              "    </tr>\n",
              "    <tr>\n",
              "      <th>7</th>\n",
              "      <td>8</td>\n",
              "      <td>0</td>\n",
              "      <td>3.000000</td>\n",
              "      <td>Palsson, Master. Gosta Leonard</td>\n",
              "      <td>1</td>\n",
              "      <td>2.000000</td>\n",
              "      <td>3.000000</td>\n",
              "      <td>1</td>\n",
              "      <td>349909</td>\n",
              "      <td>21.075000</td>\n",
              "      <td>NaN</td>\n",
              "      <td>S</td>\n",
              "      <td>-2.147042</td>\n",
              "      <td>0.041136</td>\n",
              "    </tr>\n",
              "    <tr>\n",
              "      <th>...</th>\n",
              "      <td>...</td>\n",
              "      <td>...</td>\n",
              "      <td>...</td>\n",
              "      <td>...</td>\n",
              "      <td>...</td>\n",
              "      <td>...</td>\n",
              "      <td>...</td>\n",
              "      <td>...</td>\n",
              "      <td>...</td>\n",
              "      <td>...</td>\n",
              "      <td>...</td>\n",
              "      <td>...</td>\n",
              "      <td>...</td>\n",
              "      <td>...</td>\n",
              "    </tr>\n",
              "    <tr>\n",
              "      <th>884</th>\n",
              "      <td>885</td>\n",
              "      <td>0</td>\n",
              "      <td>3.000000</td>\n",
              "      <td>Sutehall, Mr. Henry Jr</td>\n",
              "      <td>1</td>\n",
              "      <td>29.642093</td>\n",
              "      <td>1.000000</td>\n",
              "      <td>0</td>\n",
              "      <td>SOTON/OQ 392076</td>\n",
              "      <td>23.450000</td>\n",
              "      <td>NaN</td>\n",
              "      <td>S</td>\n",
              "      <td>-0.004000</td>\n",
              "      <td>0.045771</td>\n",
              "    </tr>\n",
              "    <tr>\n",
              "      <th>885</th>\n",
              "      <td>886</td>\n",
              "      <td>0</td>\n",
              "      <td>1.000000</td>\n",
              "      <td>Rice, Mrs. William (Margaret Norton)</td>\n",
              "      <td>0</td>\n",
              "      <td>26.000000</td>\n",
              "      <td>0.000000</td>\n",
              "      <td>5</td>\n",
              "      <td>382652</td>\n",
              "      <td>30.000000</td>\n",
              "      <td>NaN</td>\n",
              "      <td>Q</td>\n",
              "      <td>-0.286365</td>\n",
              "      <td>0.058556</td>\n",
              "    </tr>\n",
              "    <tr>\n",
              "      <th>886</th>\n",
              "      <td>887</td>\n",
              "      <td>0</td>\n",
              "      <td>3.000000</td>\n",
              "      <td>Montvila, Rev. Juozas</td>\n",
              "      <td>1</td>\n",
              "      <td>32.000000</td>\n",
              "      <td>0.000000</td>\n",
              "      <td>0</td>\n",
              "      <td>211536</td>\n",
              "      <td>7.750000</td>\n",
              "      <td>NaN</td>\n",
              "      <td>S</td>\n",
              "      <td>0.178804</td>\n",
              "      <td>0.015127</td>\n",
              "    </tr>\n",
              "    <tr>\n",
              "      <th>888</th>\n",
              "      <td>889</td>\n",
              "      <td>0</td>\n",
              "      <td>2.313416</td>\n",
              "      <td>Johnston, Miss. Catherine Helen \"Carrie\"</td>\n",
              "      <td>0</td>\n",
              "      <td>29.657261</td>\n",
              "      <td>0.523112</td>\n",
              "      <td>2</td>\n",
              "      <td>W./C. 6607</td>\n",
              "      <td>32.053804</td>\n",
              "      <td>NaN</td>\n",
              "      <td>S</td>\n",
              "      <td>-0.002824</td>\n",
              "      <td>0.062565</td>\n",
              "    </tr>\n",
              "    <tr>\n",
              "      <th>890</th>\n",
              "      <td>891</td>\n",
              "      <td>0</td>\n",
              "      <td>NaN</td>\n",
              "      <td>Dooley, Mr. Patrick</td>\n",
              "      <td>1</td>\n",
              "      <td>NaN</td>\n",
              "      <td>NaN</td>\n",
              "      <td>0</td>\n",
              "      <td>370376</td>\n",
              "      <td>NaN</td>\n",
              "      <td>NaN</td>\n",
              "      <td>Q</td>\n",
              "      <td>NaN</td>\n",
              "      <td>NaN</td>\n",
              "    </tr>\n",
              "  </tbody>\n",
              "</table>\n",
              "<p>687 rows × 14 columns</p>\n",
              "</div>"
            ],
            "text/plain": [
              "     PassengerId  Survived    Pclass  ... Embarked  scaled_Age  scaled_fare\n",
              "0              1         0  3.000000  ...        S   -0.596478     0.014151\n",
              "2              3         1  3.000000  ...        S   -0.286365     0.015469\n",
              "4              5         0  3.000000  ...        S    0.411389     0.015713\n",
              "5              6         0  3.000000  ...        Q   -0.004000     0.016510\n",
              "7              8         0  3.000000  ...        S   -2.147042     0.041136\n",
              "..           ...       ...       ...  ...      ...         ...          ...\n",
              "884          885         0  3.000000  ...        S   -0.004000     0.045771\n",
              "885          886         0  1.000000  ...        Q   -0.286365     0.058556\n",
              "886          887         0  3.000000  ...        S    0.178804     0.015127\n",
              "888          889         0  2.313416  ...        S   -0.002824     0.062565\n",
              "890          891         0       NaN  ...        Q         NaN          NaN\n",
              "\n",
              "[687 rows x 14 columns]"
            ]
          },
          "metadata": {},
          "execution_count": 42
        }
      ]
    },
    {
      "cell_type": "code",
      "metadata": {
        "id": "ek2VklD4HJvR"
      },
      "source": [
        "x_train = train_data[['scaled_Age', 'scaled_fare' ,'Pclass']]\n",
        "\n",
        "y_train = train_data['Cabin']"
      ],
      "execution_count": null,
      "outputs": []
    },
    {
      "cell_type": "code",
      "metadata": {
        "id": "o5iHtlEdJt_u"
      },
      "source": [
        ""
      ],
      "execution_count": null,
      "outputs": []
    },
    {
      "cell_type": "code",
      "metadata": {
        "id": "3HUKEzF2rpu2"
      },
      "source": [
        "test_data = df[df['Cabin'].isnull()]\n",
        "test_data\n",
        "x_test =test_data[['Age','Survived','Sex','Fare','Pclass']]\n",
        "y_test = test_data['Cabin']\n"
      ],
      "execution_count": null,
      "outputs": []
    },
    {
      "cell_type": "code",
      "metadata": {
        "id": "K5YBd1nEeQWB"
      },
      "source": [
        "y_predict = df[df['Cabin'].isnull()]\n",
        "y_predict = y_predict.values"
      ],
      "execution_count": null,
      "outputs": []
    },
    {
      "cell_type": "markdown",
      "metadata": {
        "id": "iPhNMsnBwc0t"
      },
      "source": [
        "Let's fit logistic Regreesion to our data"
      ]
    },
    {
      "cell_type": "code",
      "metadata": {
        "colab": {
          "base_uri": "https://localhost:8080/"
        },
        "id": "LrXfSvfdcZtK",
        "outputId": "b85d5a7b-7b2f-4fb5-d723-e8e13cb0ce80"
      },
      "source": [
        "from sklearn.linear_model import LogisticRegression\n",
        "LogisticRegression()\n",
        "#model.fit(scaled_x_train ,y_train)"
      ],
      "execution_count": null,
      "outputs": [
        {
          "output_type": "execute_result",
          "data": {
            "text/plain": [
              "LogisticRegression(C=1.0, class_weight=None, dual=False, fit_intercept=True,\n",
              "                   intercept_scaling=1, l1_ratio=None, max_iter=100,\n",
              "                   multi_class='auto', n_jobs=None, penalty='l2',\n",
              "                   random_state=None, solver='lbfgs', tol=0.0001, verbose=0,\n",
              "                   warm_start=False)"
            ]
          },
          "metadata": {},
          "execution_count": 140
        }
      ]
    },
    {
      "cell_type": "code",
      "metadata": {
        "id": "VIQTYhBqcZxc"
      },
      "source": [
        "model.predict(y_predict)\n"
      ],
      "execution_count": null,
      "outputs": []
    },
    {
      "cell_type": "markdown",
      "metadata": {
        "id": "f-EVDUqYvfZg"
      },
      "source": [
        "## Unsprviesed clustring models"
      ]
    },
    {
      "cell_type": "code",
      "metadata": {
        "id": "X2FiOkOwxGV1"
      },
      "source": [
        "X = df[['Age' , 'Survived' ,'Sex' , 'Fare' ,'Pclass']].values\n"
      ],
      "execution_count": null,
      "outputs": []
    },
    {
      "cell_type": "code",
      "metadata": {
        "colab": {
          "base_uri": "https://localhost:8080/"
        },
        "id": "ngxG9eNbyA-K",
        "outputId": "b9204302-2ff8-4f99-d69a-504be4e1bf5c"
      },
      "source": [
        "from sklearn.preprocessing import StandardScaler\n",
        "scaler = StandardScaler()\n",
        "scaled_X = scaler.fit_transform(X)\n",
        "scaled_X"
      ],
      "execution_count": null,
      "outputs": [
        {
          "output_type": "execute_result",
          "data": {
            "text/plain": [
              "array([[-0.5924806 , -0.78927234,  0.        , -0.50244517,  0.82737724],\n",
              "       [ 0.63878901,  1.2669898 ,  0.        ,  0.78684529, -1.56610693],\n",
              "       [-0.2846632 ,  1.2669898 ,  0.        , -0.48885426,  0.82737724],\n",
              "       ...,\n",
              "       [ 0.        , -0.78927234,  0.        , -0.17626324,  0.82737724],\n",
              "       [-0.2846632 ,  1.2669898 ,  0.        , -0.04438104, -1.56610693],\n",
              "       [ 0.17706291, -0.78927234,  0.        , -0.49237783,  0.82737724]])"
            ]
          },
          "metadata": {},
          "execution_count": 167
        }
      ]
    },
    {
      "cell_type": "markdown",
      "metadata": {
        "id": "ABP5O7QZwQDm"
      },
      "source": [
        "Lets detect how many value in  the column we want to cluster  "
      ]
    },
    {
      "cell_type": "code",
      "metadata": {
        "colab": {
          "base_uri": "https://localhost:8080/"
        },
        "id": "DMwxAzPvcZ0Y",
        "outputId": "3d1db854-d7ff-4869-cc34-821fcdeef587"
      },
      "source": [
        "df['Embarked'].value_counts()\n"
      ],
      "execution_count": null,
      "outputs": [
        {
          "output_type": "execute_result",
          "data": {
            "text/plain": [
              "S    644\n",
              "C    168\n",
              "Q     77\n",
              "Name: Embarked, dtype: int64"
            ]
          },
          "metadata": {},
          "execution_count": 168
        }
      ]
    },
    {
      "cell_type": "code",
      "metadata": {
        "id": "cPI4Xou6wAk_"
      },
      "source": [
        "from sklearn.cluster import KMeans\n",
        "cls = KMeans(n_clusters=3 , init='k-means++' , random_state=42)\n",
        "clustred_x = cls.fit(scaled_X)\n"
      ],
      "execution_count": null,
      "outputs": []
    },
    {
      "cell_type": "code",
      "metadata": {
        "colab": {
          "base_uri": "https://localhost:8080/"
        },
        "id": "z4jb3H6F7qnt",
        "outputId": "e90db905-0840-41ba-b470-55856aea54fb"
      },
      "source": [
        "clustred_x.labels_"
      ],
      "execution_count": null,
      "outputs": [
        {
          "output_type": "execute_result",
          "data": {
            "text/plain": [
              "array([0, 2, 1, 2, 0, 0, 2, 0, 1, 1, 1, 2, 0, 0, 0, 2, 0, 1, 0, 1, 0, 1,\n",
              "       1, 2, 0, 1, 0, 2, 1, 0, 2, 2, 1, 0, 2, 2, 1, 0, 0, 1, 0, 0, 0, 1,\n",
              "       1, 0, 0, 1, 0, 0, 0, 0, 2, 1, 2, 2, 1, 0, 1, 0, 0, 2, 2, 0, 2, 1,\n",
              "       1, 0, 1, 0, 0, 0, 0, 0, 1, 0, 0, 0, 1, 1, 0, 1, 1, 2, 1, 1, 0, 0,\n",
              "       2, 0, 0, 0, 2, 0, 0, 0, 2, 2, 1, 0, 0, 0, 2, 0, 0, 0, 1, 1, 0, 1,\n",
              "       2, 0, 0, 0, 0, 0, 0, 0, 2, 0, 0, 0, 0, 1, 2, 1, 0, 1, 1, 0, 0, 0,\n",
              "       0, 1, 0, 0, 1, 2, 0, 2, 0, 1, 1, 0, 0, 0, 1, 0, 0, 0, 0, 2, 0, 0,\n",
              "       0, 2, 1, 0, 0, 0, 0, 1, 0, 0, 0, 1, 2, 0, 2, 0, 2, 0, 1, 0, 2, 0,\n",
              "       0, 2, 0, 0, 0, 0, 0, 1, 1, 2, 1, 2, 0, 0, 1, 0, 1, 1, 2, 2, 0, 0,\n",
              "       1, 0, 0, 0, 0, 0, 1, 0, 0, 1, 1, 2, 0, 1, 0, 0, 0, 2, 1, 0, 2, 0,\n",
              "       1, 0, 0, 0, 2, 0, 1, 0, 0, 0, 2, 0, 0, 1, 0, 0, 0, 1, 0, 0, 0, 1,\n",
              "       0, 0, 0, 2, 0, 1, 2, 0, 0, 0, 2, 0, 0, 1, 2, 2, 2, 2, 0, 1, 2, 2,\n",
              "       0, 0, 0, 1, 2, 2, 2, 1, 1, 2, 1, 2, 0, 0, 0, 1, 0, 0, 0, 1, 2, 0,\n",
              "       1, 0, 1, 1, 2, 2, 0, 0, 0, 2, 0, 2, 2, 2, 1, 1, 0, 1, 0, 2, 2, 2,\n",
              "       0, 2, 2, 2, 0, 0, 0, 1, 1, 0, 2, 2, 0, 0, 1, 1, 0, 2, 0, 1, 1, 2,\n",
              "       1, 2, 2, 0, 2, 0, 2, 2, 1, 2, 1, 2, 0, 0, 0, 1, 1, 1, 1, 0, 0, 2,\n",
              "       0, 0, 0, 0, 2, 0, 1, 1, 0, 0, 0, 0, 0, 0, 2, 1, 1, 2, 2, 0, 0, 2,\n",
              "       0, 2, 1, 2, 0, 0, 2, 1, 0, 2, 0, 0, 0, 1, 0, 1, 2, 1, 0, 2, 1, 0,\n",
              "       0, 0, 0, 1, 1, 0, 0, 0, 0, 0, 0, 1, 0, 0, 0, 0, 2, 0, 1, 0, 1, 1,\n",
              "       0, 0, 0, 0, 0, 0, 0, 0, 1, 1, 0, 1, 2, 1, 1, 0, 2, 2, 0, 1, 2, 0,\n",
              "       1, 0, 0, 1, 1, 2, 1, 2, 1, 2, 0, 0, 2, 2, 0, 1, 2, 2, 1, 0, 2, 0,\n",
              "       2, 0, 0, 0, 0, 2, 0, 1, 0, 0, 1, 1, 0, 2, 0, 0, 0, 1, 0, 0, 0, 1,\n",
              "       2, 0, 2, 2, 0, 1, 0, 0, 2, 2, 0, 0, 2, 0, 2, 0, 0, 0, 0, 0, 2, 2,\n",
              "       1, 2, 0, 1, 1, 0, 2, 2, 0, 2, 1, 0, 1, 0, 2, 0, 0, 2, 0, 0, 1, 2,\n",
              "       0, 0, 1, 0, 0, 1, 0, 1, 2, 2, 0, 2, 2, 0, 0, 1, 2, 2, 1, 1, 0, 1,\n",
              "       2, 0, 0, 1, 1, 2, 2, 2, 2, 1, 0, 0, 0, 0, 0, 0, 0, 0, 0, 1, 2, 2,\n",
              "       2, 1, 0, 0, 1, 2, 0, 1, 1, 2, 0, 2, 0, 2, 0, 2, 0, 0, 0, 2, 0, 0,\n",
              "       0, 0, 1, 0, 0, 2, 1, 0, 2, 0, 2, 0, 0, 2, 1, 2, 0, 0, 1, 0, 0, 1,\n",
              "       0, 0, 1, 0, 0, 2, 1, 0, 0, 2, 0, 2, 0, 0, 2, 0, 2, 0, 0, 1, 0, 0,\n",
              "       0, 0, 0, 2, 0, 1, 1, 2, 0, 2, 0, 1, 0, 1, 0, 1, 0, 0, 0, 0, 0, 2,\n",
              "       2, 0, 2, 0, 1, 0, 0, 0, 0, 2, 1, 2, 0, 1, 0, 0, 0, 1, 0, 2, 0, 2,\n",
              "       0, 0, 2, 0, 0, 0, 0, 2, 2, 1, 1, 0, 2, 0, 0, 1, 2, 0, 2, 2, 0, 0,\n",
              "       0, 0, 1, 2, 2, 1, 2, 2, 2, 0, 0, 0, 2, 1, 0, 0, 1, 0, 0, 0, 2, 0,\n",
              "       1, 1, 0, 0, 2, 0, 0, 0, 0, 0, 0, 2, 0, 0, 2, 2, 2, 0, 1, 2, 0, 1,\n",
              "       2, 0, 1, 1, 0, 0, 2, 1, 0, 0, 0, 2, 0, 0, 1, 2, 0, 2, 2, 0, 0, 0,\n",
              "       0, 0, 0, 0, 2, 0, 0, 1, 0, 2, 1, 2, 2, 0, 0, 0, 1, 0, 1, 2, 0, 0,\n",
              "       0, 2, 0, 0, 2, 1, 0, 0, 0, 1, 2, 1, 1, 0, 2, 0, 0, 2, 0, 0, 0, 0,\n",
              "       0, 0, 0, 0, 0, 0, 2, 1, 2, 1, 0, 0, 0, 1, 1, 2, 1, 1, 0, 0, 0, 2,\n",
              "       0, 0, 1, 2, 0, 0, 2, 0, 0, 0, 0, 0, 0, 2, 0, 0, 0, 1, 0, 1, 2, 2,\n",
              "       1, 0, 0, 0, 2, 0, 0, 1, 1, 2, 0, 1, 0, 2, 2, 0, 1, 1, 0, 0, 0, 2,\n",
              "       1, 0, 0, 0, 0, 0, 0, 1, 0, 2, 0], dtype=int32)"
            ]
          },
          "metadata": {},
          "execution_count": 192
        }
      ]
    },
    {
      "cell_type": "code",
      "metadata": {
        "colab": {
          "base_uri": "https://localhost:8080/"
        },
        "id": "7M-FnGgc75Q1",
        "outputId": "360fd8bc-f590-4a2f-9211-1b2b7cfe366e"
      },
      "source": [
        "df[df['Cabin'].isnull()].index"
      ],
      "execution_count": null,
      "outputs": [
        {
          "output_type": "execute_result",
          "data": {
            "text/plain": [
              "Int64Index([  0,   2,   4,   5,   7,   8,   9,  12,  13,  14,\n",
              "            ...\n",
              "            878, 880, 881, 882, 883, 884, 885, 886, 888, 890],\n",
              "           dtype='int64', length=687)"
            ]
          },
          "metadata": {},
          "execution_count": 193
        }
      ]
    },
    {
      "cell_type": "markdown",
      "metadata": {
        "id": "qZfXhj7wL76m"
      },
      "source": [
        ""
      ]
    },
    {
      "cell_type": "markdown",
      "metadata": {
        "id": "uI_aMZkR0DrI"
      },
      "source": [
        "# Refrences\n",
        "- https://www.mastersindatascience.org/learning/how-to-deal-with-missing-data/\n",
        "- https://www.analyticsvidhya.com/blog/2021/10/end-to-end-introduction-to-handling-missing-values/\n",
        "- http://www.simonqueenborough.info/R/basic/missing-data\n",
        "- https://scikit-learn.org/stable/modules/generated/sklearn.impute.IterativeImputer.html\n",
        "- https://scikit-learn.org/stable/modules/generated/sklearn.impute.IterativeImputer.html\n",
        "- https://www.analyticsvidhya.com/blog/2020/07/knnimputer-a-robust-way-to-impute-missing-values-using-scikit-learn/\n",
        "- https://towardsdatascience.com/iterative-imputation-with-scikit-learn-8f3eb22b1a38\n"
      ]
    }
  ]
}